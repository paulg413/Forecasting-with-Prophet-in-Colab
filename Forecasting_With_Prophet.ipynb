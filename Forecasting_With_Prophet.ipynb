{
  "nbformat": 4,
  "nbformat_minor": 0,
  "metadata": {
    "colab": {
      "name": "Forecasting With Prophet.ipynb",
      "provenance": [],
      "authorship_tag": "ABX9TyNANAesPBmk8/X2P6oOLWJc",
      "include_colab_link": true
    },
    "kernelspec": {
      "name": "python3",
      "display_name": "Python 3"
    },
    "language_info": {
      "name": "python"
    }
  },
  "cells": [
    {
      "cell_type": "markdown",
      "metadata": {
        "id": "view-in-github",
        "colab_type": "text"
      },
      "source": [
        "<a href=\"https://colab.research.google.com/github/paulg413/Forecasting-with-Prophet-in-Colab/blob/main/Forecasting_With_Prophet.ipynb\" target=\"_parent\"><img src=\"https://colab.research.google.com/assets/colab-badge.svg\" alt=\"Open In Colab\"/></a>"
      ]
    },
    {
      "cell_type": "markdown",
      "metadata": {
        "id": "OqILGqSHo5Fo"
      },
      "source": [
        "**Forecasting in Python using Prophet - Tutorial**\n",
        "\n",
        "\n",
        "**Introduction **\n",
        "\n",
        "\n",
        "Recently, I learned about Prophet (fbprophet). If you’re a Data Scientist who works with time-series data, you will love this tool.\n",
        "\n",
        "For those not aware, Prophet was developed by Facebook to aid Data Scientists with automated forecasting for time-series data through its simple Sk-Learn style API.\n",
        "\n",
        "Prophet can be fine-tuned by a data scientist to achieve more specificity. It is an additive forecasting model, and assumed that seasonal effects will be similar each year. Therefore, it doesn’t take a lot into account, but its accuracy can be improved over time through multiple feedback mechanisms. Its website states that Prophet works best with time-series data that has regular seasonality components and lots of historical data to refer to.\n",
        "Since it is open-source, anyone can download and use Prophet. \n",
        "\n",
        "Rohan Gupta Dec 8 2019"
      ]
    },
    {
      "cell_type": "markdown",
      "metadata": {
        "id": "_e_x37-jpz5b"
      },
      "source": [
        "**Students Note: The text information below is in case you want to adapt the code to run in another IDE such as VS Studio code, I have adapted this code to run in Colab**\n",
        "\n",
        "Installation\n",
        "I won’t go into much detail here, but since I did have some issues downloading Prophet for the first time, I’ll explain what I did to install it properly:\n",
        "Firstly, you can try a simple pip install if that works:\n",
        "pip install fbprophet\n",
        "However, fbprophet has one major dependency that may cause problems: pystan\n",
        "Ideally, you want to pip install pystan before fbprophet :\n",
        "https://pystan.readthedocs.io/en/latest/installation_beginner.html\n",
        "WINDOWS: pystan needs a compiler. Follow instructions here.\n",
        "The easiest way is to install Prophet in anaconda. Use conda install gcc to set up gcc. Then install Prophet is through conda-forge:\n",
        "conda install -c conda-forge fbprophet"
      ]
    },
    {
      "cell_type": "code",
      "metadata": {
        "id": "sxl4_X1BOVSx"
      },
      "source": [
        "#We will be using the following libraries for the tutorial. All basic libraries except Prophet.\n",
        "\n",
        "import fbprophet\n",
        "import matplotlib.pyplot as plt\n",
        "import pandas as pd\n",
        "import numpy as np\n",
        "import os\n",
        "from fbprophet import Prophet\n",
        "\n"
      ],
      "execution_count": 33,
      "outputs": []
    },
    {
      "cell_type": "markdown",
      "metadata": {
        "id": "7jUCrHCWqFGL"
      },
      "source": [
        "For Dataset, I downloaded almost 10 years of game data for James Harden from https://www.basketball-reference.com/players/h/hardeja01.html. Essentially, we have data for almost every single game Harden has played (both in the Regular Season, as well as in the Playoffs.)\n",
        "To use the same data that I’m using, head over to this GitHub https://github.com/dataxienxe/NBAplayersdata page and download the CSV files.\n",
        "\n",
        "\n",
        "Below, I have imported each of the CSV files containing data on James Harden. ‘19rs’ would be “Regular Season 2019–2020” and ‘18po’ would be “Playoffs 2018–2019” to give you an idea of how each file is named."
      ]
    },
    {
      "cell_type": "code",
      "metadata": {
        "colab": {
          "resources": {
            "http://localhost:8080/nbextensions/google.colab/files.js": {
              "data": "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",
              "ok": true,
              "headers": [
                [
                  "content-type",
                  "application/javascript"
                ]
              ],
              "status": 200,
              "status_text": ""
            }
          },
          "base_uri": "https://localhost:8080/",
          "height": 39
        },
        "id": "Et4yvzzTQHXo",
        "outputId": "73dabb48-b853-483f-aa3c-d8c955ccaa88"
      },
      "source": [
        "#Note, for speed you can select/highlight all files you want to upload in a directory in one go \n",
        "\n",
        "from google.colab import files\n",
        "uploaded = files.upload()"
      ],
      "execution_count": 34,
      "outputs": [
        {
          "output_type": "display_data",
          "data": {
            "text/html": [
              "\n",
              "     <input type=\"file\" id=\"files-986c09b7-2081-4311-aaab-61bc468bd404\" name=\"files[]\" multiple disabled\n",
              "        style=\"border:none\" />\n",
              "     <output id=\"result-986c09b7-2081-4311-aaab-61bc468bd404\">\n",
              "      Upload widget is only available when the cell has been executed in the\n",
              "      current browser session. Please rerun this cell to enable.\n",
              "      </output>\n",
              "      <script src=\"/nbextensions/google.colab/files.js\"></script> "
            ],
            "text/plain": [
              "<IPython.core.display.HTML object>"
            ]
          },
          "metadata": {}
        }
      ]
    },
    {
      "cell_type": "code",
      "metadata": {
        "id": "oswhpm2EPoX_"
      },
      "source": [
        "harden19rs = pd.read_csv('harden19rs.csv')\n",
        "harden19po = pd.read_csv('harden19po.csv')\n",
        "harden18rs = pd.read_csv('harden18rs.csv')\n",
        "harden18po = pd.read_csv('harden18po.csv')\n",
        "harden17rs = pd.read_csv('harden17rs.csv')\n",
        "harden17po = pd.read_csv('harden17po.csv')\n",
        "harden16rs = pd.read_csv('harden16rs.csv')\n",
        "harden16po = pd.read_csv('harden16po.csv')\n",
        "harden15rs = pd.read_csv('harden15rs.csv')\n",
        "harden15po = pd.read_csv('harden15po.csv')\n",
        "harden14rs = pd.read_csv('harden14rs.csv')\n",
        "harden14po = pd.read_csv('harden14po.csv')\n",
        "harden13rs = pd.read_csv('harden13rs.csv')\n",
        "harden13po = pd.read_csv('harden13po.csv')\n",
        "harden12rs = pd.read_csv('harden12rs.csv')\n",
        "harden12po = pd.read_csv('harden12po.csv')\n",
        "harden11rs = pd.read_csv('harden11rs.csv')\n",
        "harden11po = pd.read_csv('harden11po.csv')\n",
        "harden10rs = pd.read_csv('harden10po.csv')\n",
        "harden10po = pd.read_csv('harden10rs.csv')\n",
        "harden09rs = pd.read_csv('harden09rs.csv')"
      ],
      "execution_count": 35,
      "outputs": []
    },
    {
      "cell_type": "markdown",
      "metadata": {
        "id": "CLRkdFmeqyCE"
      },
      "source": [
        "**Cleaning the Data**\n",
        "\n",
        "The next step is super important as we want to make sure our data contains all the required fields or else we wouldn’t be able to do much with it.\n",
        "Let’s start off by appending each of the CSV files. We can make them chronological as there’s a date component. First, we append each file in the following way:"
      ]
    },
    {
      "cell_type": "code",
      "metadata": {
        "id": "rV95pkkDRi8e"
      },
      "source": [
        "harden = harden19rs.append(harden19po, ignore_index=True, sort=True)\n",
        "harden = harden.append(harden18rs, ignore_index=True, sort=True)\n",
        "harden = harden.append(harden18po, ignore_index=True, sort=True)\n",
        "harden = harden.append(harden17rs, ignore_index=True, sort=True)\n",
        "harden = harden.append(harden17po, ignore_index=True, sort=True)\n",
        "harden = harden.append(harden16rs, ignore_index=True, sort=True)\n",
        "harden = harden.append(harden16po, ignore_index=True, sort=True)\n",
        "harden = harden.append(harden15rs, ignore_index=True, sort=True)\n",
        "harden = harden.append(harden15po, ignore_index=True, sort=True)\n",
        "harden = harden.append(harden14rs, ignore_index=True, sort=True)\n",
        "\n",
        "...\n",
        "harden = harden.append(harden09rs, ignore_index=True, sort=True)"
      ],
      "execution_count": 36,
      "outputs": []
    },
    {
      "cell_type": "markdown",
      "metadata": {
        "id": "UvNIn3dEq5WT"
      },
      "source": [
        "**Next, I’ll rename some columns so we can understand what they are, and drop the unnecessary columns that aren’t required:**"
      ]
    },
    {
      "cell_type": "code",
      "metadata": {
        "colab": {
          "base_uri": "https://localhost:8080/",
          "height": 381
        },
        "id": "9NhGF5S8il3S",
        "outputId": "9550c627-169e-4165-96ef-616e542c69c8"
      },
      "source": [
        "harden = harden.rename(columns={'Unnamed: 7': 'Game', 'MP':'Mins'})\n",
        "#harden['Game'] = pd.concat([harden['Unnamed: 7'].dropna(), harden['Game'].dropna()]).reindex_like(harden)\n",
        "#harden = harden.drop(columns=['Unnamed: 7'])\n",
        "harden = harden.drop(columns=['Unnamed: 5']) \n",
        "harden = harden.drop(columns=['▲'])\n",
        "harden = harden.sort_values(by=['Date'])\n",
        "harden = harden.reset_index(drop=True)\n"
      ],
      "execution_count": 46,
      "outputs": [
        {
          "output_type": "error",
          "ename": "KeyError",
          "evalue": "ignored",
          "traceback": [
            "\u001b[0;31m---------------------------------------------------------------------------\u001b[0m",
            "\u001b[0;31mKeyError\u001b[0m                                  Traceback (most recent call last)",
            "\u001b[0;32m<ipython-input-46-3827b1fef3fe>\u001b[0m in \u001b[0;36m<module>\u001b[0;34m()\u001b[0m\n\u001b[1;32m      2\u001b[0m \u001b[0;31m#harden['Game'] = pd.concat([harden['Unnamed: 7'].dropna(), harden['Game'].dropna()]).reindex_like(harden)\u001b[0m\u001b[0;34m\u001b[0m\u001b[0;34m\u001b[0m\u001b[0;34m\u001b[0m\u001b[0m\n\u001b[1;32m      3\u001b[0m \u001b[0;31m#harden = harden.drop(columns=['Unnamed: 7'])\u001b[0m\u001b[0;34m\u001b[0m\u001b[0;34m\u001b[0m\u001b[0;34m\u001b[0m\u001b[0m\n\u001b[0;32m----> 4\u001b[0;31m \u001b[0mharden\u001b[0m \u001b[0;34m=\u001b[0m \u001b[0mharden\u001b[0m\u001b[0;34m.\u001b[0m\u001b[0mdrop\u001b[0m\u001b[0;34m(\u001b[0m\u001b[0mcolumns\u001b[0m\u001b[0;34m=\u001b[0m\u001b[0;34m[\u001b[0m\u001b[0;34m'Unnamed: 5'\u001b[0m\u001b[0;34m]\u001b[0m\u001b[0;34m)\u001b[0m\u001b[0;34m\u001b[0m\u001b[0;34m\u001b[0m\u001b[0m\n\u001b[0m\u001b[1;32m      5\u001b[0m \u001b[0mharden\u001b[0m \u001b[0;34m=\u001b[0m \u001b[0mharden\u001b[0m\u001b[0;34m.\u001b[0m\u001b[0mdrop\u001b[0m\u001b[0;34m(\u001b[0m\u001b[0mcolumns\u001b[0m\u001b[0;34m=\u001b[0m\u001b[0;34m[\u001b[0m\u001b[0;34m'▲'\u001b[0m\u001b[0;34m]\u001b[0m\u001b[0;34m)\u001b[0m\u001b[0;34m\u001b[0m\u001b[0;34m\u001b[0m\u001b[0m\n\u001b[1;32m      6\u001b[0m \u001b[0mharden\u001b[0m \u001b[0;34m=\u001b[0m \u001b[0mharden\u001b[0m\u001b[0;34m.\u001b[0m\u001b[0msort_values\u001b[0m\u001b[0;34m(\u001b[0m\u001b[0mby\u001b[0m\u001b[0;34m=\u001b[0m\u001b[0;34m[\u001b[0m\u001b[0;34m'Date'\u001b[0m\u001b[0;34m]\u001b[0m\u001b[0;34m)\u001b[0m\u001b[0;34m\u001b[0m\u001b[0;34m\u001b[0m\u001b[0m\n",
            "\u001b[0;32m/usr/local/lib/python3.7/dist-packages/pandas/core/frame.py\u001b[0m in \u001b[0;36mdrop\u001b[0;34m(self, labels, axis, index, columns, level, inplace, errors)\u001b[0m\n\u001b[1;32m   4172\u001b[0m             \u001b[0mlevel\u001b[0m\u001b[0;34m=\u001b[0m\u001b[0mlevel\u001b[0m\u001b[0;34m,\u001b[0m\u001b[0;34m\u001b[0m\u001b[0;34m\u001b[0m\u001b[0m\n\u001b[1;32m   4173\u001b[0m             \u001b[0minplace\u001b[0m\u001b[0;34m=\u001b[0m\u001b[0minplace\u001b[0m\u001b[0;34m,\u001b[0m\u001b[0;34m\u001b[0m\u001b[0;34m\u001b[0m\u001b[0m\n\u001b[0;32m-> 4174\u001b[0;31m             \u001b[0merrors\u001b[0m\u001b[0;34m=\u001b[0m\u001b[0merrors\u001b[0m\u001b[0;34m,\u001b[0m\u001b[0;34m\u001b[0m\u001b[0;34m\u001b[0m\u001b[0m\n\u001b[0m\u001b[1;32m   4175\u001b[0m         )\n\u001b[1;32m   4176\u001b[0m \u001b[0;34m\u001b[0m\u001b[0m\n",
            "\u001b[0;32m/usr/local/lib/python3.7/dist-packages/pandas/core/generic.py\u001b[0m in \u001b[0;36mdrop\u001b[0;34m(self, labels, axis, index, columns, level, inplace, errors)\u001b[0m\n\u001b[1;32m   3887\u001b[0m         \u001b[0;32mfor\u001b[0m \u001b[0maxis\u001b[0m\u001b[0;34m,\u001b[0m \u001b[0mlabels\u001b[0m \u001b[0;32min\u001b[0m \u001b[0maxes\u001b[0m\u001b[0;34m.\u001b[0m\u001b[0mitems\u001b[0m\u001b[0;34m(\u001b[0m\u001b[0;34m)\u001b[0m\u001b[0;34m:\u001b[0m\u001b[0;34m\u001b[0m\u001b[0;34m\u001b[0m\u001b[0m\n\u001b[1;32m   3888\u001b[0m             \u001b[0;32mif\u001b[0m \u001b[0mlabels\u001b[0m \u001b[0;32mis\u001b[0m \u001b[0;32mnot\u001b[0m \u001b[0;32mNone\u001b[0m\u001b[0;34m:\u001b[0m\u001b[0;34m\u001b[0m\u001b[0;34m\u001b[0m\u001b[0m\n\u001b[0;32m-> 3889\u001b[0;31m                 \u001b[0mobj\u001b[0m \u001b[0;34m=\u001b[0m \u001b[0mobj\u001b[0m\u001b[0;34m.\u001b[0m\u001b[0m_drop_axis\u001b[0m\u001b[0;34m(\u001b[0m\u001b[0mlabels\u001b[0m\u001b[0;34m,\u001b[0m \u001b[0maxis\u001b[0m\u001b[0;34m,\u001b[0m \u001b[0mlevel\u001b[0m\u001b[0;34m=\u001b[0m\u001b[0mlevel\u001b[0m\u001b[0;34m,\u001b[0m \u001b[0merrors\u001b[0m\u001b[0;34m=\u001b[0m\u001b[0merrors\u001b[0m\u001b[0;34m)\u001b[0m\u001b[0;34m\u001b[0m\u001b[0;34m\u001b[0m\u001b[0m\n\u001b[0m\u001b[1;32m   3890\u001b[0m \u001b[0;34m\u001b[0m\u001b[0m\n\u001b[1;32m   3891\u001b[0m         \u001b[0;32mif\u001b[0m \u001b[0minplace\u001b[0m\u001b[0;34m:\u001b[0m\u001b[0;34m\u001b[0m\u001b[0;34m\u001b[0m\u001b[0m\n",
            "\u001b[0;32m/usr/local/lib/python3.7/dist-packages/pandas/core/generic.py\u001b[0m in \u001b[0;36m_drop_axis\u001b[0;34m(self, labels, axis, level, errors)\u001b[0m\n\u001b[1;32m   3921\u001b[0m                 \u001b[0mnew_axis\u001b[0m \u001b[0;34m=\u001b[0m \u001b[0maxis\u001b[0m\u001b[0;34m.\u001b[0m\u001b[0mdrop\u001b[0m\u001b[0;34m(\u001b[0m\u001b[0mlabels\u001b[0m\u001b[0;34m,\u001b[0m \u001b[0mlevel\u001b[0m\u001b[0;34m=\u001b[0m\u001b[0mlevel\u001b[0m\u001b[0;34m,\u001b[0m \u001b[0merrors\u001b[0m\u001b[0;34m=\u001b[0m\u001b[0merrors\u001b[0m\u001b[0;34m)\u001b[0m\u001b[0;34m\u001b[0m\u001b[0;34m\u001b[0m\u001b[0m\n\u001b[1;32m   3922\u001b[0m             \u001b[0;32melse\u001b[0m\u001b[0;34m:\u001b[0m\u001b[0;34m\u001b[0m\u001b[0;34m\u001b[0m\u001b[0m\n\u001b[0;32m-> 3923\u001b[0;31m                 \u001b[0mnew_axis\u001b[0m \u001b[0;34m=\u001b[0m \u001b[0maxis\u001b[0m\u001b[0;34m.\u001b[0m\u001b[0mdrop\u001b[0m\u001b[0;34m(\u001b[0m\u001b[0mlabels\u001b[0m\u001b[0;34m,\u001b[0m \u001b[0merrors\u001b[0m\u001b[0;34m=\u001b[0m\u001b[0merrors\u001b[0m\u001b[0;34m)\u001b[0m\u001b[0;34m\u001b[0m\u001b[0;34m\u001b[0m\u001b[0m\n\u001b[0m\u001b[1;32m   3924\u001b[0m             \u001b[0mresult\u001b[0m \u001b[0;34m=\u001b[0m \u001b[0mself\u001b[0m\u001b[0;34m.\u001b[0m\u001b[0mreindex\u001b[0m\u001b[0;34m(\u001b[0m\u001b[0;34m**\u001b[0m\u001b[0;34m{\u001b[0m\u001b[0maxis_name\u001b[0m\u001b[0;34m:\u001b[0m \u001b[0mnew_axis\u001b[0m\u001b[0;34m}\u001b[0m\u001b[0;34m)\u001b[0m\u001b[0;34m\u001b[0m\u001b[0;34m\u001b[0m\u001b[0m\n\u001b[1;32m   3925\u001b[0m \u001b[0;34m\u001b[0m\u001b[0m\n",
            "\u001b[0;32m/usr/local/lib/python3.7/dist-packages/pandas/core/indexes/base.py\u001b[0m in \u001b[0;36mdrop\u001b[0;34m(self, labels, errors)\u001b[0m\n\u001b[1;32m   5285\u001b[0m         \u001b[0;32mif\u001b[0m \u001b[0mmask\u001b[0m\u001b[0;34m.\u001b[0m\u001b[0many\u001b[0m\u001b[0;34m(\u001b[0m\u001b[0;34m)\u001b[0m\u001b[0;34m:\u001b[0m\u001b[0;34m\u001b[0m\u001b[0;34m\u001b[0m\u001b[0m\n\u001b[1;32m   5286\u001b[0m             \u001b[0;32mif\u001b[0m \u001b[0merrors\u001b[0m \u001b[0;34m!=\u001b[0m \u001b[0;34m\"ignore\"\u001b[0m\u001b[0;34m:\u001b[0m\u001b[0;34m\u001b[0m\u001b[0;34m\u001b[0m\u001b[0m\n\u001b[0;32m-> 5287\u001b[0;31m                 \u001b[0;32mraise\u001b[0m \u001b[0mKeyError\u001b[0m\u001b[0;34m(\u001b[0m\u001b[0;34mf\"{labels[mask]} not found in axis\"\u001b[0m\u001b[0;34m)\u001b[0m\u001b[0;34m\u001b[0m\u001b[0;34m\u001b[0m\u001b[0m\n\u001b[0m\u001b[1;32m   5288\u001b[0m             \u001b[0mindexer\u001b[0m \u001b[0;34m=\u001b[0m \u001b[0mindexer\u001b[0m\u001b[0;34m[\u001b[0m\u001b[0;34m~\u001b[0m\u001b[0mmask\u001b[0m\u001b[0;34m]\u001b[0m\u001b[0;34m\u001b[0m\u001b[0;34m\u001b[0m\u001b[0m\n\u001b[1;32m   5289\u001b[0m         \u001b[0;32mreturn\u001b[0m \u001b[0mself\u001b[0m\u001b[0;34m.\u001b[0m\u001b[0mdelete\u001b[0m\u001b[0;34m(\u001b[0m\u001b[0mindexer\u001b[0m\u001b[0;34m)\u001b[0m\u001b[0;34m\u001b[0m\u001b[0;34m\u001b[0m\u001b[0m\n",
            "\u001b[0;31mKeyError\u001b[0m: \"['Unnamed: 5'] not found in axis\""
          ]
        }
      ]
    },
    {
      "cell_type": "markdown",
      "metadata": {
        "id": "2mkAY278rFiT"
      },
      "source": [
        "**The final dataset looks like this: **"
      ]
    },
    {
      "cell_type": "code",
      "metadata": {
        "colab": {
          "base_uri": "https://localhost:8080/"
        },
        "id": "sWAlhgV0rM9j",
        "outputId": "8ce68ee7-f455-4920-bdc4-dcdef0b27859"
      },
      "source": [
        "print(harden)\n"
      ],
      "execution_count": 48,
      "outputs": [
        {
          "output_type": "stream",
          "name": "stdout",
          "text": [
            "     +/-  3P    3P%  3PA  AST     Age  ...  Rk  STL TOV  TRB   Tm     Game\n",
            "0    +16   1  0.500    2    3  20-069  ...   4    1   0    1  OKC   L (-3)\n",
            "1      0   0  0.000    1    5  20-074  ...   6    2   0    4  OKC  W (+28)\n",
            "2     +9   0  0.000    3    8  20-077  ...   8    1   2    5  OKC   W (+4)\n",
            "3     -3   0  0.000    1    1  20-080  ...   9    1   2    2  OKC   W (+3)\n",
            "4     -9   0  0.000    5    2  20-081  ...  10    1   2    3  OKC   L (-8)\n",
            "..   ...  ..    ...  ...  ...     ...  ...  ..  ...  ..  ...  ...      ...\n",
            "441   36   9  0.474   19    9  30-075  ...   9    2   6   10  HOU  W (+23)\n",
            "442   -4   3  0.273   11    9  30-077  ...  10    2   6    4  HOU   W (+6)\n",
            "443   10   7  0.538   13    7  30-079  ...  11    3   6    6  HOU   W (+9)\n",
            "444   18   6  0.429   14    5  30-081  ...  12    4   3    8  HOU   W (+9)\n",
            "445   16   8  0.364   22    6  30-082  ...  13    0   4    5  HOU  W (+20)\n",
            "\n",
            "[446 rows x 29 columns]\n"
          ]
        }
      ]
    },
    {
      "cell_type": "markdown",
      "metadata": {
        "id": "3Lg8tAisrkw4"
      },
      "source": [
        "**Setting the Index and Dropping nulls**\n",
        "\n",
        "Since we want the data to be in chronological order, we set the date as our index value and change the datatype to a pandas datetime variable:"
      ]
    },
    {
      "cell_type": "code",
      "metadata": {
        "id": "stSKFk-qm4Jb"
      },
      "source": [
        "harden.set_index('Date')\n",
        "harden['Date'] = pd.to_datetime(harden['Date'])"
      ],
      "execution_count": 47,
      "outputs": []
    },
    {
      "cell_type": "markdown",
      "metadata": {
        "id": "P4S0NXCcsP85"
      },
      "source": [
        "Next, we want to drop any null values in our data (even though I doubt we have any). We will use the pandas dropna function and will drop a row in which all values are null. Once we do that, we’ll reset the index to make sure it’s still coherent."
      ]
    },
    {
      "cell_type": "code",
      "metadata": {
        "id": "AxqMOsOwnPWU"
      },
      "source": [
        "harden = harden.dropna(how='all')\n",
        "harden = harden.reset_index(drop=True)"
      ],
      "execution_count": 39,
      "outputs": []
    },
    {
      "cell_type": "markdown",
      "metadata": {
        "id": "pPhZMO4Tsw3y"
      },
      "source": [
        "Next, we have another important step in the data cleanup. During some games, James Harden was inactive, suspended, did not play or did not dress. Certain columns would have these values “suspended” rather than the numeric value that should be there.\n",
        "Thus, we can remove all the rows (games) in which Harden did not play/dress or was inactive/suspended. However, that might reduce the size of my data by a lot. So instead, I will replace the values with the median of each respective column.\n"
      ]
    },
    {
      "cell_type": "code",
      "metadata": {
        "colab": {
          "base_uri": "https://localhost:8080/",
          "height": 455
        },
        "id": "l-Fo_qplnVMW",
        "outputId": "379c9d7d-034a-48e4-a4f4-c87e57b264e1"
      },
      "source": [
        "for i in harden:\n",
        "    harden[i] = harden[i].replace('Inactive', \n",
        "    np.median(pd.to_numeric(harden[i], errors='coerce')))\n",
        "    \n",
        "for i in harden:\n",
        "    harden[i] = harden[i].replace('Did Not Play', \n",
        "    np.median(pd.to_numeric(harden[i], errors='coerce')))\n",
        "    \n",
        "for i in harden:\n",
        "    harden[i] = harden[i].replace('Did Not Dress', \n",
        "    np.median(pd.to_numeric(harden[i], errors='coerce')))\n",
        "    \n",
        "for i in harden:\n",
        "    harden[i] = harden[i].replace('Player Suspended', \n",
        "    np.median(pd.to_numeric(harden[i], errors='coerce')))\n",
        "    \n",
        "harden = harden.dropna(how='any')\n",
        "harden = harden.reset_index(drop=True)\n",
        "harden.set_index('Date')"
      ],
      "execution_count": 40,
      "outputs": [
        {
          "output_type": "execute_result",
          "data": {
            "text/html": [
              "<div>\n",
              "<style scoped>\n",
              "    .dataframe tbody tr th:only-of-type {\n",
              "        vertical-align: middle;\n",
              "    }\n",
              "\n",
              "    .dataframe tbody tr th {\n",
              "        vertical-align: top;\n",
              "    }\n",
              "\n",
              "    .dataframe thead th {\n",
              "        text-align: right;\n",
              "    }\n",
              "</style>\n",
              "<table border=\"1\" class=\"dataframe\">\n",
              "  <thead>\n",
              "    <tr style=\"text-align: right;\">\n",
              "      <th></th>\n",
              "      <th>+/-</th>\n",
              "      <th>3P</th>\n",
              "      <th>3P%</th>\n",
              "      <th>3PA</th>\n",
              "      <th>AST</th>\n",
              "      <th>Age</th>\n",
              "      <th>BLK</th>\n",
              "      <th>DRB</th>\n",
              "      <th>FG</th>\n",
              "      <th>FG%</th>\n",
              "      <th>FGA</th>\n",
              "      <th>FT</th>\n",
              "      <th>FT%</th>\n",
              "      <th>FTA</th>\n",
              "      <th>G</th>\n",
              "      <th>GS</th>\n",
              "      <th>GmSc</th>\n",
              "      <th>Mins</th>\n",
              "      <th>ORB</th>\n",
              "      <th>Opp</th>\n",
              "      <th>PF</th>\n",
              "      <th>PTS</th>\n",
              "      <th>Rk</th>\n",
              "      <th>STL</th>\n",
              "      <th>TOV</th>\n",
              "      <th>TRB</th>\n",
              "      <th>Tm</th>\n",
              "      <th>Game</th>\n",
              "    </tr>\n",
              "    <tr>\n",
              "      <th>Date</th>\n",
              "      <th></th>\n",
              "      <th></th>\n",
              "      <th></th>\n",
              "      <th></th>\n",
              "      <th></th>\n",
              "      <th></th>\n",
              "      <th></th>\n",
              "      <th></th>\n",
              "      <th></th>\n",
              "      <th></th>\n",
              "      <th></th>\n",
              "      <th></th>\n",
              "      <th></th>\n",
              "      <th></th>\n",
              "      <th></th>\n",
              "      <th></th>\n",
              "      <th></th>\n",
              "      <th></th>\n",
              "      <th></th>\n",
              "      <th></th>\n",
              "      <th></th>\n",
              "      <th></th>\n",
              "      <th></th>\n",
              "      <th></th>\n",
              "      <th></th>\n",
              "      <th></th>\n",
              "      <th></th>\n",
              "      <th></th>\n",
              "    </tr>\n",
              "  </thead>\n",
              "  <tbody>\n",
              "    <tr>\n",
              "      <th>2009-11-03</th>\n",
              "      <td>+16</td>\n",
              "      <td>1</td>\n",
              "      <td>.500</td>\n",
              "      <td>2</td>\n",
              "      <td>3</td>\n",
              "      <td>20-069</td>\n",
              "      <td>0</td>\n",
              "      <td>1</td>\n",
              "      <td>3</td>\n",
              "      <td>.333</td>\n",
              "      <td>9</td>\n",
              "      <td>2</td>\n",
              "      <td>1.000</td>\n",
              "      <td>2</td>\n",
              "      <td>4.0</td>\n",
              "      <td>0</td>\n",
              "      <td>6.5</td>\n",
              "      <td>17:04</td>\n",
              "      <td>0</td>\n",
              "      <td>LAL</td>\n",
              "      <td>2</td>\n",
              "      <td>9</td>\n",
              "      <td>4</td>\n",
              "      <td>1</td>\n",
              "      <td>0</td>\n",
              "      <td>1</td>\n",
              "      <td>OKC</td>\n",
              "      <td>L (-3)</td>\n",
              "    </tr>\n",
              "    <tr>\n",
              "      <th>2009-11-08</th>\n",
              "      <td>0</td>\n",
              "      <td>0</td>\n",
              "      <td>.000</td>\n",
              "      <td>1</td>\n",
              "      <td>5</td>\n",
              "      <td>20-074</td>\n",
              "      <td>0</td>\n",
              "      <td>3</td>\n",
              "      <td>2</td>\n",
              "      <td>.400</td>\n",
              "      <td>5</td>\n",
              "      <td>1</td>\n",
              "      <td>.500</td>\n",
              "      <td>2</td>\n",
              "      <td>6.0</td>\n",
              "      <td>0</td>\n",
              "      <td>7.8</td>\n",
              "      <td>19:13</td>\n",
              "      <td>1</td>\n",
              "      <td>ORL</td>\n",
              "      <td>3</td>\n",
              "      <td>5</td>\n",
              "      <td>6</td>\n",
              "      <td>2</td>\n",
              "      <td>0</td>\n",
              "      <td>4</td>\n",
              "      <td>OKC</td>\n",
              "      <td>W (+28)</td>\n",
              "    </tr>\n",
              "    <tr>\n",
              "      <th>2009-11-11</th>\n",
              "      <td>+9</td>\n",
              "      <td>0</td>\n",
              "      <td>.000</td>\n",
              "      <td>3</td>\n",
              "      <td>8</td>\n",
              "      <td>20-077</td>\n",
              "      <td>1</td>\n",
              "      <td>5</td>\n",
              "      <td>3</td>\n",
              "      <td>.375</td>\n",
              "      <td>8</td>\n",
              "      <td>1</td>\n",
              "      <td>.500</td>\n",
              "      <td>2</td>\n",
              "      <td>8.0</td>\n",
              "      <td>0</td>\n",
              "      <td>8.6</td>\n",
              "      <td>23:54</td>\n",
              "      <td>0</td>\n",
              "      <td>LAC</td>\n",
              "      <td>1</td>\n",
              "      <td>7</td>\n",
              "      <td>8</td>\n",
              "      <td>1</td>\n",
              "      <td>2</td>\n",
              "      <td>5</td>\n",
              "      <td>OKC</td>\n",
              "      <td>W (+4)</td>\n",
              "    </tr>\n",
              "    <tr>\n",
              "      <th>2009-11-14</th>\n",
              "      <td>-3</td>\n",
              "      <td>0</td>\n",
              "      <td>.000</td>\n",
              "      <td>1</td>\n",
              "      <td>1</td>\n",
              "      <td>20-080</td>\n",
              "      <td>1</td>\n",
              "      <td>1</td>\n",
              "      <td>3</td>\n",
              "      <td>.500</td>\n",
              "      <td>6</td>\n",
              "      <td>2</td>\n",
              "      <td>.667</td>\n",
              "      <td>3</td>\n",
              "      <td>9.0</td>\n",
              "      <td>0</td>\n",
              "      <td>4.4</td>\n",
              "      <td>19:57</td>\n",
              "      <td>1</td>\n",
              "      <td>SAS</td>\n",
              "      <td>4</td>\n",
              "      <td>8</td>\n",
              "      <td>9</td>\n",
              "      <td>1</td>\n",
              "      <td>2</td>\n",
              "      <td>2</td>\n",
              "      <td>OKC</td>\n",
              "      <td>W (+3)</td>\n",
              "    </tr>\n",
              "    <tr>\n",
              "      <th>2009-11-15</th>\n",
              "      <td>-9</td>\n",
              "      <td>0</td>\n",
              "      <td>.000</td>\n",
              "      <td>5</td>\n",
              "      <td>2</td>\n",
              "      <td>20-081</td>\n",
              "      <td>0</td>\n",
              "      <td>2</td>\n",
              "      <td>0</td>\n",
              "      <td>.000</td>\n",
              "      <td>8</td>\n",
              "      <td>4</td>\n",
              "      <td>1.000</td>\n",
              "      <td>4</td>\n",
              "      <td>10.0</td>\n",
              "      <td>0</td>\n",
              "      <td>-0.3</td>\n",
              "      <td>17:38</td>\n",
              "      <td>1</td>\n",
              "      <td>LAC</td>\n",
              "      <td>1</td>\n",
              "      <td>4</td>\n",
              "      <td>10</td>\n",
              "      <td>1</td>\n",
              "      <td>2</td>\n",
              "      <td>3</td>\n",
              "      <td>OKC</td>\n",
              "      <td>L (-8)</td>\n",
              "    </tr>\n",
              "    <tr>\n",
              "      <th>...</th>\n",
              "      <td>...</td>\n",
              "      <td>...</td>\n",
              "      <td>...</td>\n",
              "      <td>...</td>\n",
              "      <td>...</td>\n",
              "      <td>...</td>\n",
              "      <td>...</td>\n",
              "      <td>...</td>\n",
              "      <td>...</td>\n",
              "      <td>...</td>\n",
              "      <td>...</td>\n",
              "      <td>...</td>\n",
              "      <td>...</td>\n",
              "      <td>...</td>\n",
              "      <td>...</td>\n",
              "      <td>...</td>\n",
              "      <td>...</td>\n",
              "      <td>...</td>\n",
              "      <td>...</td>\n",
              "      <td>...</td>\n",
              "      <td>...</td>\n",
              "      <td>...</td>\n",
              "      <td>...</td>\n",
              "      <td>...</td>\n",
              "      <td>...</td>\n",
              "      <td>...</td>\n",
              "      <td>...</td>\n",
              "      <td>...</td>\n",
              "    </tr>\n",
              "    <tr>\n",
              "      <th>2019-11-09</th>\n",
              "      <td>36</td>\n",
              "      <td>9</td>\n",
              "      <td>0.474</td>\n",
              "      <td>19</td>\n",
              "      <td>9</td>\n",
              "      <td>30-075</td>\n",
              "      <td>0</td>\n",
              "      <td>9</td>\n",
              "      <td>12</td>\n",
              "      <td>0.444</td>\n",
              "      <td>27</td>\n",
              "      <td>9</td>\n",
              "      <td>0.818</td>\n",
              "      <td>11</td>\n",
              "      <td>9.0</td>\n",
              "      <td>1</td>\n",
              "      <td>32.4</td>\n",
              "      <td>35:48</td>\n",
              "      <td>1</td>\n",
              "      <td>CHI</td>\n",
              "      <td>1</td>\n",
              "      <td>42</td>\n",
              "      <td>9</td>\n",
              "      <td>2</td>\n",
              "      <td>6</td>\n",
              "      <td>10</td>\n",
              "      <td>HOU</td>\n",
              "      <td>W (+23)</td>\n",
              "    </tr>\n",
              "    <tr>\n",
              "      <th>2019-11-11</th>\n",
              "      <td>-4</td>\n",
              "      <td>3</td>\n",
              "      <td>0.273</td>\n",
              "      <td>11</td>\n",
              "      <td>9</td>\n",
              "      <td>30-077</td>\n",
              "      <td>1</td>\n",
              "      <td>4</td>\n",
              "      <td>13</td>\n",
              "      <td>0.52</td>\n",
              "      <td>25</td>\n",
              "      <td>10</td>\n",
              "      <td>0.714</td>\n",
              "      <td>14</td>\n",
              "      <td>10.0</td>\n",
              "      <td>1</td>\n",
              "      <td>27.7</td>\n",
              "      <td>38:16</td>\n",
              "      <td>0</td>\n",
              "      <td>NOP</td>\n",
              "      <td>4</td>\n",
              "      <td>39</td>\n",
              "      <td>10</td>\n",
              "      <td>2</td>\n",
              "      <td>6</td>\n",
              "      <td>4</td>\n",
              "      <td>HOU</td>\n",
              "      <td>W (+6)</td>\n",
              "    </tr>\n",
              "    <tr>\n",
              "      <th>2019-11-13</th>\n",
              "      <td>10</td>\n",
              "      <td>7</td>\n",
              "      <td>0.538</td>\n",
              "      <td>13</td>\n",
              "      <td>7</td>\n",
              "      <td>30-079</td>\n",
              "      <td>0</td>\n",
              "      <td>6</td>\n",
              "      <td>12</td>\n",
              "      <td>0.462</td>\n",
              "      <td>26</td>\n",
              "      <td>16</td>\n",
              "      <td>0.941</td>\n",
              "      <td>17</td>\n",
              "      <td>11.0</td>\n",
              "      <td>1</td>\n",
              "      <td>36.9</td>\n",
              "      <td>44:27</td>\n",
              "      <td>0</td>\n",
              "      <td>LAC</td>\n",
              "      <td>0</td>\n",
              "      <td>47</td>\n",
              "      <td>11</td>\n",
              "      <td>3</td>\n",
              "      <td>6</td>\n",
              "      <td>6</td>\n",
              "      <td>HOU</td>\n",
              "      <td>W (+9)</td>\n",
              "    </tr>\n",
              "    <tr>\n",
              "      <th>2019-11-15</th>\n",
              "      <td>18</td>\n",
              "      <td>6</td>\n",
              "      <td>0.429</td>\n",
              "      <td>14</td>\n",
              "      <td>5</td>\n",
              "      <td>30-081</td>\n",
              "      <td>0</td>\n",
              "      <td>8</td>\n",
              "      <td>13</td>\n",
              "      <td>0.5</td>\n",
              "      <td>26</td>\n",
              "      <td>12</td>\n",
              "      <td>0.857</td>\n",
              "      <td>14</td>\n",
              "      <td>12.0</td>\n",
              "      <td>1</td>\n",
              "      <td>35.5</td>\n",
              "      <td>40:27</td>\n",
              "      <td>0</td>\n",
              "      <td>IND</td>\n",
              "      <td>4</td>\n",
              "      <td>44</td>\n",
              "      <td>12</td>\n",
              "      <td>4</td>\n",
              "      <td>3</td>\n",
              "      <td>8</td>\n",
              "      <td>HOU</td>\n",
              "      <td>W (+9)</td>\n",
              "    </tr>\n",
              "    <tr>\n",
              "      <th>2019-11-16</th>\n",
              "      <td>16</td>\n",
              "      <td>8</td>\n",
              "      <td>0.364</td>\n",
              "      <td>22</td>\n",
              "      <td>6</td>\n",
              "      <td>30-082</td>\n",
              "      <td>0</td>\n",
              "      <td>5</td>\n",
              "      <td>16</td>\n",
              "      <td>0.39</td>\n",
              "      <td>41</td>\n",
              "      <td>9</td>\n",
              "      <td>0.818</td>\n",
              "      <td>11</td>\n",
              "      <td>13.0</td>\n",
              "      <td>1</td>\n",
              "      <td>26</td>\n",
              "      <td>38:42</td>\n",
              "      <td>0</td>\n",
              "      <td>MIN</td>\n",
              "      <td>4</td>\n",
              "      <td>49</td>\n",
              "      <td>13</td>\n",
              "      <td>0</td>\n",
              "      <td>4</td>\n",
              "      <td>5</td>\n",
              "      <td>HOU</td>\n",
              "      <td>W (+20)</td>\n",
              "    </tr>\n",
              "  </tbody>\n",
              "</table>\n",
              "<p>446 rows × 28 columns</p>\n",
              "</div>"
            ],
            "text/plain": [
              "            +/- 3P    3P% 3PA AST     Age BLK  ... PTS  Rk STL TOV TRB   Tm     Game\n",
              "Date                                           ...                                  \n",
              "2009-11-03  +16  1   .500   2   3  20-069   0  ...   9   4   1   0   1  OKC   L (-3)\n",
              "2009-11-08    0  0   .000   1   5  20-074   0  ...   5   6   2   0   4  OKC  W (+28)\n",
              "2009-11-11   +9  0   .000   3   8  20-077   1  ...   7   8   1   2   5  OKC   W (+4)\n",
              "2009-11-14   -3  0   .000   1   1  20-080   1  ...   8   9   1   2   2  OKC   W (+3)\n",
              "2009-11-15   -9  0   .000   5   2  20-081   0  ...   4  10   1   2   3  OKC   L (-8)\n",
              "...         ... ..    ...  ..  ..     ...  ..  ...  ..  ..  ..  ..  ..  ...      ...\n",
              "2019-11-09   36  9  0.474  19   9  30-075   0  ...  42   9   2   6  10  HOU  W (+23)\n",
              "2019-11-11   -4  3  0.273  11   9  30-077   1  ...  39  10   2   6   4  HOU   W (+6)\n",
              "2019-11-13   10  7  0.538  13   7  30-079   0  ...  47  11   3   6   6  HOU   W (+9)\n",
              "2019-11-15   18  6  0.429  14   5  30-081   0  ...  44  12   4   3   8  HOU   W (+9)\n",
              "2019-11-16   16  8  0.364  22   6  30-082   0  ...  49  13   0   4   5  HOU  W (+20)\n",
              "\n",
              "[446 rows x 28 columns]"
            ]
          },
          "metadata": {},
          "execution_count": 40
        }
      ]
    },
    {
      "cell_type": "markdown",
      "metadata": {
        "id": "GLs4gi6MtKFh"
      },
      "source": [
        "**Make sure your data types are on point**\n",
        "\n",
        "\n",
        "A column containing numeric data should be explicitly assigned that datatype, in order to avoid errors in the future. Therefore, I will assign each column its correct data type. Using downcast='float' for float (decimal) columns."
      ]
    },
    {
      "cell_type": "code",
      "metadata": {
        "colab": {
          "base_uri": "https://localhost:8080/"
        },
        "id": "amaQ6xtoneVv",
        "outputId": "f3a03022-ead4-40c8-ec71-7e9c62ae3f66"
      },
      "source": [
        "harden['3P'] = pd.to_numeric(harden['3P'])\n",
        "harden['3PA'] = pd.to_numeric(harden['3PA'])\n",
        "harden['AST'] = pd.to_numeric(harden['AST'])\n",
        "harden['BLK'] = pd.to_numeric(harden['BLK'])\n",
        "harden['DRB'] = pd.to_numeric(harden['DRB'])\n",
        "harden['ORB'] = pd.to_numeric(harden['ORB'])\n",
        "harden['FG'] = pd.to_numeric(harden['FG'])\n",
        "harden['FGA'] = pd.to_numeric(harden['FGA'])\n",
        "harden['PTS'] = pd.to_numeric(harden['PTS'])\n",
        "harden['PF'] = pd.to_numeric(harden['PF'])\n",
        "harden['TOV'] = pd.to_numeric(harden['TOV'])\n",
        "harden['STL'] = pd.to_numeric(harden['STL'])\n",
        "harden['TRB'] = pd.to_numeric(harden['TRB'])\n",
        "harden['3P%'] = pd.to_numeric(harden['3P%'], downcast='float')\n",
        "harden['FG%'] = pd.to_numeric(harden['FG%'], downcast='float')\n",
        "harden['FT%'] = pd.to_numeric(harden['FT%'], downcast='float')\n",
        "harden['GmSc'] = pd.to_numeric(harden['GmSc'], downcast='float')\n",
        "harden['FTA'] = pd.to_numeric(harden['FTA'])\n",
        "harden['FT'] = pd.to_numeric(harden['FT'])\n",
        "print(harden.dtypes)\n"
      ],
      "execution_count": 41,
      "outputs": [
        {
          "output_type": "stream",
          "name": "stdout",
          "text": [
            "+/-             object\n",
            "3P               int64\n",
            "3P%            float32\n",
            "3PA              int64\n",
            "AST              int64\n",
            "Age             object\n",
            "BLK              int64\n",
            "DRB              int64\n",
            "Date    datetime64[ns]\n",
            "FG               int64\n",
            "FG%            float32\n",
            "FGA              int64\n",
            "FT               int64\n",
            "FT%            float32\n",
            "FTA              int64\n",
            "G              float64\n",
            "GS              object\n",
            "GmSc           float32\n",
            "Mins            object\n",
            "ORB              int64\n",
            "Opp             object\n",
            "PF               int64\n",
            "PTS              int64\n",
            "Rk               int64\n",
            "STL              int64\n",
            "TOV              int64\n",
            "TRB              int64\n",
            "Tm              object\n",
            "Game            object\n",
            "dtype: object\n"
          ]
        }
      ]
    },
    {
      "cell_type": "code",
      "metadata": {
        "colab": {
          "base_uri": "https://localhost:8080/"
        },
        "id": "EJBnzVQTno7R",
        "outputId": "03d017ad-640d-4978-f3b0-731dcf8bd259"
      },
      "source": [
        "#Scroll back up to the prior dataframe to compare how the data has now been altered\n",
        "\n",
        "print(harden)"
      ],
      "execution_count": 42,
      "outputs": [
        {
          "output_type": "stream",
          "name": "stdout",
          "text": [
            "     +/-  3P    3P%  3PA  AST     Age  ...  Rk  STL TOV  TRB   Tm     Game\n",
            "0    +16   1  0.500    2    3  20-069  ...   4    1   0    1  OKC   L (-3)\n",
            "1      0   0  0.000    1    5  20-074  ...   6    2   0    4  OKC  W (+28)\n",
            "2     +9   0  0.000    3    8  20-077  ...   8    1   2    5  OKC   W (+4)\n",
            "3     -3   0  0.000    1    1  20-080  ...   9    1   2    2  OKC   W (+3)\n",
            "4     -9   0  0.000    5    2  20-081  ...  10    1   2    3  OKC   L (-8)\n",
            "..   ...  ..    ...  ...  ...     ...  ...  ..  ...  ..  ...  ...      ...\n",
            "441   36   9  0.474   19    9  30-075  ...   9    2   6   10  HOU  W (+23)\n",
            "442   -4   3  0.273   11    9  30-077  ...  10    2   6    4  HOU   W (+6)\n",
            "443   10   7  0.538   13    7  30-079  ...  11    3   6    6  HOU   W (+9)\n",
            "444   18   6  0.429   14    5  30-081  ...  12    4   3    8  HOU   W (+9)\n",
            "445   16   8  0.364   22    6  30-082  ...  13    0   4    5  HOU  W (+20)\n",
            "\n",
            "[446 rows x 29 columns]\n"
          ]
        }
      ]
    },
    {
      "cell_type": "markdown",
      "metadata": {
        "id": "IxvlEx7ftmPe"
      },
      "source": [
        "**Forecasting the Data**\n",
        "\n",
        "\n",
        "Now to the best part. We will forecast any column in this dataset using Prophet. The output will give us an image (graph) of the forecast. In order to create the graph, we need to first fit the Prophet model to our dataset. We will separate the column we want, along with the date column. In this case, I’m predicting points, so I’ll take the ‘PTS’ and ‘Date’ columns."
      ]
    },
    {
      "cell_type": "code",
      "metadata": {
        "id": "KBFC48WnnvBY"
      },
      "source": [
        "df = harden[['PTS', 'Date']]"
      ],
      "execution_count": 43,
      "outputs": []
    },
    {
      "cell_type": "markdown",
      "metadata": {
        "id": "1iL_O5MdtwpC"
      },
      "source": [
        "**Fitting**\n",
        "\n",
        "These next steps are quite important, as we will be fitting the prophet model to our data. We want to rename our columns to ‘ds’ (date) and ‘y’ (target). We then define our Prophet model with any given interval_width. Then we fit our Prophet model to the dataset with the date and target variable."
      ]
    },
    {
      "cell_type": "code",
      "metadata": {
        "colab": {
          "base_uri": "https://localhost:8080/"
        },
        "id": "nV1FE7g3n1GU",
        "outputId": "6dfd0176-0150-49da-9db7-5339a996d95c"
      },
      "source": [
        "jh = df.rename(columns={'Date': 'ds', 'PTS': 'y'})\n",
        "jh_model = Prophet(interval_width=0.95)\n",
        "jh_model.fit(jh)"
      ],
      "execution_count": 44,
      "outputs": [
        {
          "output_type": "stream",
          "name": "stderr",
          "text": [
            "INFO:fbprophet:Disabling daily seasonality. Run prophet with daily_seasonality=True to override this.\n"
          ]
        },
        {
          "output_type": "execute_result",
          "data": {
            "text/plain": [
              "<fbprophet.forecaster.Prophet at 0x7f0ce3772b90>"
            ]
          },
          "metadata": {},
          "execution_count": 44
        }
      ]
    },
    {
      "cell_type": "markdown",
      "metadata": {
        "id": "UUr5dx_suF7X"
      },
      "source": [
        "**To forecast values**, we use the make_future_dataframe function, specify the number of periods, frequency as ‘MS’, which is Multiplicative Seasonality.\n",
        "We then create our matplotlib figure for the forecast. The image below the code shows you the output. \n"
      ]
    },
    {
      "cell_type": "code",
      "metadata": {
        "colab": {
          "base_uri": "https://localhost:8080/",
          "height": 492
        },
        "id": "SNxOlz8moEMp",
        "outputId": "51d57022-8ac1-4368-cc5b-0edbecdbd676"
      },
      "source": [
        "jh_forecast = jh_model.make_future_dataframe(periods=36, freq='MS')\n",
        "jh_forecast = jh_model.predict(jh_forecast)\n",
        "plt.figure(figsize=(18, 6))\n",
        "jh_model.plot(jh_forecast, xlabel = 'Date', ylabel = 'PTS')\n",
        "plt.title('James Harden Points')"
      ],
      "execution_count": 45,
      "outputs": [
        {
          "output_type": "execute_result",
          "data": {
            "text/plain": [
              "Text(0.5, 1.0, 'James Harden Points')"
            ]
          },
          "metadata": {},
          "execution_count": 45
        },
        {
          "output_type": "display_data",
          "data": {
            "text/plain": [
              "<Figure size 1296x432 with 0 Axes>"
            ]
          },
          "metadata": {}
        },
        {
          "output_type": "display_data",
          "data": {
            "image/png": "[encoded data removed]",
            "text/plain": [
              "<Figure size 720x432 with 1 Axes>"
            ]
          },
          "metadata": {}
        }
      ]
    },
    {
      "cell_type": "code",
      "metadata": {
        "id": "J_1cjClAoIS8"
      },
      "source": [
        ""
      ],
      "execution_count": null,
      "outputs": []
    }
  ]
}